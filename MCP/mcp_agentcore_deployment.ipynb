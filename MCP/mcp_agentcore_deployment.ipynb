{
 "cells": [
  {
   "cell_type": "markdown",
   "id": "dbb30425",
   "metadata": {},
   "source": [
    "# MCP Server Deployment on AgentCore Runtime\n",
    "\n",
    "## 1. Environment Setup\n",
    "\n",
    "### 1.1 Install Required Dependencies"
   ]
  },
  {
   "cell_type": "code",
   "execution_count": null,
   "id": "394730c3-f2bf-4a72-a40a-9f7a6f863f23",
   "metadata": {},
   "outputs": [],
   "source": [
    "!printf \"✅ Python version: $(python3 --version)\\n\"\n",
    "\n",
    "!python3 -m pip install --requirement requirements.txt --upgrade --quiet\n",
    "\n",
    "!echo \"✅ Requirements installed\""
   ]
  },
  {
   "cell_type": "markdown",
   "id": "b76f3399-f6ab-46f0-8cb5-062331b6bba4",
   "metadata": {},
   "source": [
    "## 2. Authentication Setup\n",
    "\n",
    "### 2.1 Create Cognito User Pool"
   ]
  },
  {
   "cell_type": "code",
   "execution_count": null,
   "id": "c2e259d4-9586-4fef-b300-73bb52b9caad",
   "metadata": {},
   "outputs": [],
   "source": [
    "from aws_setup import setup_cognito_user_pool\n",
    "\n",
    "print(\"Setting up Amazon Cognito user pool (checking for existing pools first)...\")\n",
    "try:\n",
    "    cognito_config = setup_cognito_user_pool()\n",
    "    if cognito_config is None:\n",
    "        raise Exception(\"Failed to setup Cognito user pool\")\n",
    "    print(\"✅ Cognito setup completed\")\n",
    "except Exception as e:\n",
    "    print(f\"❌ Error setting up Cognito: {e}\")\n",
    "    raise"
   ]
  },
  {
   "cell_type": "markdown",
   "id": "a97e5e40",
   "metadata": {},
   "source": [
    "### 2.2 Verify Cognito Configuration"
   ]
  },
  {
   "cell_type": "code",
   "execution_count": null,
   "id": "7347d247",
   "metadata": {},
   "outputs": [],
   "source": [
    "print(f'✅ Username: {cognito_config[\"AuthParameters\"][\"USERNAME\"]}')\n",
    "print(f'✅ PASSWORD: ***MASKED***')\n",
    "print(f'✅ Bearer Token: ***MASKED***')\n",
    "print(f'✅ Client ID: {cognito_config[\"client_id\"]}')\n",
    "print(f'✅ Pool ID: {cognito_config[\"pool_id\"]}')\n",
    "print(f'✅ Discovery URL: {cognito_config[\"discovery_url\"]}')"
   ]
  },
  {
   "cell_type": "markdown",
   "id": "eed4feea-bce7-42ed-91c3-f5f401a651c9",
   "metadata": {},
   "source": [
    "## 3. AgentCore Runtime Deployment\n",
    "\n",
    "### 3.1 Initialize AgentCore Runtime"
   ]
  },
  {
   "cell_type": "code",
   "execution_count": null,
   "id": "1d26e236-cd4f-40e6-a2b9-df9d5a3c6b27",
   "metadata": {},
   "outputs": [],
   "source": [
    "from bedrock_agentcore_starter_toolkit import Runtime\n",
    "from boto3.session import Session\n",
    "\n",
    "boto_session = Session()\n",
    "region = boto_session.region_name\n",
    "print(f\"✅ Using AWS region: {region}\")\n",
    "\n",
    "agentcore_runtime = Runtime()\n",
    "print(\"✅ AgentCore Runtime initialized\")"
   ]
  },
  {
   "cell_type": "markdown",
   "id": "step2-markdown",
   "metadata": {},
   "source": [
    "### 3.2 Check Required Files"
   ]
  },
  {
   "cell_type": "code",
   "execution_count": null,
   "id": "step2-code",
   "metadata": {},
   "outputs": [],
   "source": [
    "import os\n",
    "\n",
    "required_files = [\n",
    "    'awslabs/aws_support_mcp_server/server.py',\n",
    "    'requirements.txt',\n",
    "]\n",
    "\n",
    "try:\n",
    "    for file in required_files:\n",
    "        print(f\"Checking: {file}\")\n",
    "\n",
    "        if not os.path.exists(file):\n",
    "            raise FileNotFoundError(f\"Required file {file} not found\")\n",
    "\n",
    "    print(\"✅ All required files found\")\n",
    "except FileNotFoundError as e:\n",
    "    print(f\"❌ {e}\")\n",
    "    raise"
   ]
  },
  {
   "cell_type": "markdown",
   "id": "step3-markdown",
   "metadata": {},
   "source": [
    "### 3.3 Configure JWT Authentication"
   ]
  },
  {
   "cell_type": "code",
   "execution_count": null,
   "id": "step3-code",
   "metadata": {},
   "outputs": [],
   "source": [
    "if 'cognito_config' not in locals() or not cognito_config:\n",
    "    raise Exception(\"Cognito configuration not available\")\n",
    "\n",
    "auth_config = {\n",
    "    \"customJWTAuthorizer\": {\n",
    "        \"allowedClients\": [\n",
    "            cognito_config['client_id']\n",
    "        ],\n",
    "        \"discoveryUrl\": cognito_config['discovery_url'],\n",
    "    }\n",
    "}\n",
    "\n",
    "print(f\"✅ Auth config prepared for client: {cognito_config['client_id']}\")"
   ]
  },
  {
   "cell_type": "markdown",
   "id": "step4-markdown",
   "metadata": {},
   "source": [
    "### 3.4 Create IAM Execution Role with \"AWSSupportAccess\" policy attached"
   ]
  },
  {
   "cell_type": "code",
   "execution_count": null,
   "id": "step4-code",
   "metadata": {},
   "outputs": [],
   "source": [
    "from aws_setup import get_or_create_role\n",
    "\n",
    "from config import AGENT_NAME\n",
    "\n",
    "print(\"Getting or creating IAM role...\")\n",
    "execution_role_arn = get_or_create_role(AGENT_NAME)\n",
    "print(f\"✅ Using role: {execution_role_arn}\")"
   ]
  },
  {
   "cell_type": "markdown",
   "id": "step5-markdown",
   "metadata": {},
   "source": [
    "### 3.5 Deploy MCP Server"
   ]
  },
  {
   "cell_type": "code",
   "execution_count": null,
   "id": "step5-code",
   "metadata": {},
   "outputs": [],
   "source": [
    "import nest_asyncio\n",
    "\n",
    "from config import AGENT_NAME\n",
    "\n",
    "nest_asyncio.apply()\n",
    "\n",
    "print(\"Configuring AgentCore Runtime...\")\n",
    "print(f\"ℹ️ Agent name: {AGENT_NAME}\")\n",
    "print(f\"ℹ️ Execution role: {execution_role_arn}\")\n",
    "print(f\"ℹ️ Region: {region}\")\n",
    "response = agentcore_runtime.configure(\n",
    "    entrypoint=\"awslabs/aws_support_mcp_server/server.py\",\n",
    "    execution_role=execution_role_arn,\n",
    "    agent_name=AGENT_NAME,\n",
    "    requirements_file=\"requirements.txt\",\n",
    "    container_runtime=\"auto\",\n",
    "    auto_create_ecr=True,\n",
    "    auto_create_execution_role=False,\n",
    "    authorizer_configuration=auth_config,\n",
    "    region=region,\n",
    "    protocol=\"MCP\",\n",
    "    disable_otel=False,\n",
    ")\n",
    "print(\"✅ Configuration completed\")\n",
    "print(f\"Response: {response}\")"
   ]
  },
  {
   "cell_type": "markdown",
   "id": "d4c8b4e0",
   "metadata": {},
   "source": [
    "### 3.6 Start Runtime"
   ]
  },
  {
   "cell_type": "code",
   "execution_count": null,
   "id": "987f9940-5583-4c1e-a541-d58e9b758ace",
   "metadata": {},
   "outputs": [],
   "source": [
    "print(\"Launching MCP server to AgentCore Runtime (This might take several minutes...)\")\n",
    "launch_result = agentcore_runtime.launch(\n",
    "    # Explicitly defined local/local_build as False to ensure it would be built with cloud\n",
    "    local=False,\n",
    "    local_build=False,\n",
    "    auto_update_on_conflict=True,\n",
    ")\n",
    "print(\"✅ Launch completed\")\n",
    "\n",
    "print(f\"Agent ARN: {launch_result.agent_arn}\")\n",
    "print(f\"Agent ID: {launch_result.agent_id}\")"
   ]
  },
  {
   "cell_type": "markdown",
   "id": "5c4a0a96",
   "metadata": {},
   "source": [
    "### 3.7 Check Runtime Status"
   ]
  },
  {
   "cell_type": "code",
   "execution_count": null,
   "id": "b7ff864d-bbd8-4a52-b62c-72626af49188",
   "metadata": {},
   "outputs": [],
   "source": [
    "import time\n",
    "\n",
    "print(\"Checking AgentCore Runtime status...\")\n",
    "status_response = agentcore_runtime.status()\n",
    "status = status_response.endpoint['status']\n",
    "print(f\"Initial status: {status}\")\n",
    "\n",
    "end_status = ['READY', 'CREATE_FAILED', 'DELETE_FAILED', 'UPDATE_FAILED']\n",
    "max_wait_time = 1800  # 30 minutes\n",
    "wait_time = 0\n",
    "\n",
    "while status not in end_status and wait_time < max_wait_time:\n",
    "    print(f\"Status: {status} - waiting... ({wait_time}s/{max_wait_time}s)\")\n",
    "    time.sleep(10)\n",
    "    wait_time += 10\n",
    "\n",
    "    status_response = agentcore_runtime.status()\n",
    "    status = status_response.endpoint['status']\n",
    "\n",
    "if wait_time >= max_wait_time:\n",
    "    print(f\"⚠️ Timeout reached. Current status: {status}\")\n",
    "elif status == 'READY':\n",
    "    print(f\"✅ AgentCore Runtime is READY!\")\n",
    "else:\n",
    "    print(f\"⚠️ AgentCore Runtime status: {status}\")\n",
    "    \n",
    "print(f\"Final status: {status}\")"
   ]
  },
  {
   "cell_type": "markdown",
   "id": "8549652e",
   "metadata": {},
   "source": [
    "## 4. Configuration Storage\n",
    "\n",
    "### 4.1 Save Configuration to AWS"
   ]
  },
  {
   "cell_type": "code",
   "execution_count": null,
   "id": "d6779693-6f01-4020-9161-d7680212af16",
   "metadata": {},
   "outputs": [],
   "source": [
    "import boto3\n",
    "import json\n",
    "\n",
    "from config import PARAMETER_NAME, SECRETS_NAME\n",
    "\n",
    "ssm_client = boto3.client('ssm', region_name=region)\n",
    "secrets_client = boto3.client('secretsmanager', region_name=region)\n",
    "\n",
    "try:\n",
    "    cognito_credentials_response = secrets_client.create_secret(\n",
    "        Name=SECRETS_NAME,\n",
    "        Description='Cognito credentials for MCP server',\n",
    "        SecretString=json.dumps(cognito_config)\n",
    "    )\n",
    "    print(\"✅ Cognito credentials stored in Secrets Manager\")\n",
    "except secrets_client.exceptions.ResourceExistsException:\n",
    "    secrets_client.update_secret(\n",
    "        SecretId=SECRETS_NAME,\n",
    "        SecretString=json.dumps(cognito_config)\n",
    "    )\n",
    "    print(\"✅ Cognito credentials updated in Secrets Manager\")\n",
    "except Exception as e:\n",
    "    print(f\"❌ Error managing secrets: {e}\")\n",
    "    raise\n",
    "\n",
    "try:\n",
    "    agent_arn_response = ssm_client.put_parameter(\n",
    "        Name=PARAMETER_NAME,\n",
    "        Value=launch_result.agent_arn,\n",
    "        Type='String',\n",
    "        Description='Agent ARN for MCP server',\n",
    "        Overwrite=True\n",
    "    )\n",
    "    print(\"✅ Agent ARN stored in Parameter Store\")\n",
    "except Exception as e:\n",
    "    print(f\"❌ Error storing Agent ARN: {e}\")\n",
    "    raise\n",
    "\n",
    "print(\"\\nConfiguration stored successfully!\")\n",
    "print(f\"Agent ARN: {launch_result.agent_arn}\")"
   ]
  },
  {
   "cell_type": "markdown",
   "id": "5436e367",
   "metadata": {},
   "source": [
    "## ✅ Deployment Complete\n",
    "\n",
    "The MCP Server has been successfully deployed on AgentCore Runtime."
   ]
  },
  {
   "cell_type": "markdown",
   "id": "29b14640",
   "metadata": {},
   "source": [
    "## 5. Test & Validate\n",
    "\n",
    "### 5.1 Test MCP Connection"
   ]
  },
  {
   "cell_type": "code",
   "execution_count": null,
   "id": "e4bb1c1c-0006-40ef-a393-edefb0f772ce",
   "metadata": {},
   "outputs": [],
   "source": [
    "from mcp_client_test import test_mcp_connection\n",
    "\n",
    "# Run the MCP client test\n",
    "await test_mcp_connection()"
   ]
  }
 ],
 "metadata": {
  "kernelspec": {
   "display_name": "3.13.7",
   "language": "python",
   "name": "python3"
  },
  "language_info": {
   "codemirror_mode": {
    "name": "ipython",
    "version": 3
   },
   "file_extension": ".py",
   "mimetype": "text/x-python",
   "name": "python",
   "nbconvert_exporter": "python",
   "pygments_lexer": "ipython3",
   "version": "3.13.7"
  }
 },
 "nbformat": 4,
 "nbformat_minor": 5
}
